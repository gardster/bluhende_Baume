{
 "cells": [
  {
   "cell_type": "code",
   "execution_count": 1,
   "id": "56ad955e-75f5-4f19-9f5a-5b751ff857a3",
   "metadata": {},
   "outputs": [],
   "source": [
    "import json\n",
    "\n",
    "with open(\"trees.geojson\",\"r\") as f:\n",
    " gjs = json.load(f)"
   ]
  },
  {
   "cell_type": "code",
   "execution_count": 2,
   "id": "0f07073e-9cfc-45d3-8d67-d2e865180d4b",
   "metadata": {},
   "outputs": [
    {
     "name": "stdout",
     "output_type": "stream",
     "text": [
      "429292\n"
     ]
    }
   ],
   "source": [
    "print(len(gjs[\"features\"]))"
   ]
  },
  {
   "cell_type": "code",
   "execution_count": 3,
   "id": "1f12e6ae-3c52-4a58-bc36-2254101c8bb4",
   "metadata": {},
   "outputs": [
    {
     "name": "stdout",
     "output_type": "stream",
     "text": [
      "Counter({'TILIA': 150678, 'ACER': 87465, 'QUERCUS': 38171, 'PLATANUS': 24771, 'AESCULUS': 20284, 'FRAXINUS': 12008, 'BETULA': 11050, 'ROBINIA': 10167, 'CORYLUS': 8522, 'CARPINUS': 7883, 'PRUNUS': 7630, 'ULMUS': 7202, 'POPULUS': 6790, 'CRATAEGUS': 5621, 'SORBUS': 5019, 'PINUS': 3825, 'GLEDITSIA': 2957, 'PYRUS': 2404, 'SOPHORA': 1926, 'LIQUIDAMBAR': 1786, 'MALUS': 1359, 'GINKGO': 1292, 'SALIX': 1193, 'ALNUS': 1100, 'PICEA': 893, 'FAGUS': 880, 'AILANTHUS': 857, 'JUGLANS': 828, 'OSTRYA': 690, 'MAGNOLIA': 494, 'AMELANCHIER': 305, 'CATALPA': 263, 'LARIX': 254, 'PSEUDOTSUGA': 190, 'RHUS': 186, 'ZELKOVA': 182, 'MORUS': 181, 'CASTANEA': 175, 'PARROTIA': 169, 'TAXUS': 152, 'Abies': 147, 'CELTIS': 130, 'CORNUS': 125, 'UNBEKANNT': 107, 'LIRIODENDRON': 97, 'CHAMAECYPARIS': 82, 'THUJA': 79, 'KOELREUTERIA': 75, 'CERCIS': 71, 'ELAEAGNUS': 69, 'SAMBUCUS': 67, '': 42, 'TETRADIUM': 42, 'CERCIDIPHYLLUM': 39, 'CUPRESSOCYPARIS': 33, 'JUNIPERUS': 28, 'GYMNOCLADUS': 24, 'PHELLODENDRON': 23, 'PAULOWNIA': 23, 'HIPPOPHAE': 22, 'METASEQUOIA': 20, 'PTEROCARYA': 19, 'SYRINGA': 17, 'LABURNUM': 14, 'RHAMNUS': 14, 'EUONYMUS': 13, 'COTINUS': 9, 'MESPILUS': 9, 'CEDRUS': 6, 'TSUGA': 6, 'TOONA': 4, 'SEQUOIADENDRON': 4, 'CYDONIA': 4, 'TAMARIX': 3, 'CARAGANA': 3, 'NYSSA': 3, 'ILEX': 3, 'DAVIDIA': 2, 'CARYA': 1, 'SCIADOPITYS': 1, 'PTELEA': 1, 'TAXODIUM': 1, 'CRYPTOMERIA': 1, 'CEPHALOTAXUS': 1, 'Albizia': 1, 'NOTHOFAGUS': 1, 'LAGERSTROEMIA': 1, 'OXYDENDRUM': 1, 'BUXUS': 1, 'LONICERA': 1})\n"
     ]
    }
   ],
   "source": [
    "from collections import Counter\n",
    "trees = gjs[\"features\"]\n",
    "genus = Counter([t[\"properties\"][\"gattung\"] for t in trees])\n",
    "print(genus)"
   ]
  },
  {
   "cell_type": "code",
   "execution_count": 4,
   "id": "5db686cf-dc26-49c8-9614-f6a364eb7e1f",
   "metadata": {},
   "outputs": [],
   "source": []
  },
  {
   "cell_type": "code",
   "execution_count": 7,
   "id": "8afec330-e400-4d2a-9d6c-83e77250b0d0",
   "metadata": {},
   "outputs": [
    {
     "name": "stdout",
     "output_type": "stream",
     "text": [
      "\u001b[33mWARNING: Skipping /usr/local/lib/python3.12/site-packages/platformdirs-4.1.0.dist-info due to invalid metadata entry 'name'\u001b[0m\u001b[33m\n",
      "\u001b[0m\u001b[33mWARNING: Skipping /usr/local/lib/python3.12/site-packages/platformdirs-4.1.0.dist-info due to invalid metadata entry 'name'\u001b[0m\u001b[33m\n",
      "\u001b[0m\u001b[33mWARNING: Skipping /usr/local/lib/python3.12/site-packages/attrs-23.1.0.dist-info due to invalid metadata entry 'name'\u001b[0m\u001b[33m\n",
      "\u001b[0m\u001b[33mWARNING: Skipping /usr/local/lib/python3.12/site-packages/packaging-23.2.dist-info due to invalid metadata entry 'name'\u001b[0m\u001b[33m\n",
      "\u001b[0m\u001b[33mWARNING: Skipping /usr/local/lib/python3.12/site-packages/requests-2.31.0.dist-info due to invalid metadata entry 'name'\u001b[0m\u001b[33m\n",
      "\u001b[0m\u001b[33mWARNING: Skipping /usr/local/lib/python3.12/site-packages/urllib3-2.1.0.dist-info due to invalid metadata entry 'name'\u001b[0m\u001b[33m\n",
      "\u001b[0m\u001b[33mWARNING: Skipping /usr/local/lib/python3.12/site-packages/charset_normalizer-3.3.2.dist-info due to invalid metadata entry 'name'\u001b[0m\u001b[33m\n",
      "\u001b[0m\u001b[33mWARNING: Skipping /usr/local/lib/python3.12/site-packages/certifi-2023.11.17.dist-info due to invalid metadata entry 'name'\u001b[0m\u001b[33m\n",
      "\u001b[0m\u001b[33mWARNING: Skipping /usr/local/lib/python3.12/site-packages/idna-3.6.dist-info due to invalid metadata entry 'name'\u001b[0m\u001b[33m\n",
      "\u001b[0mCollecting pyproj\n",
      "  Downloading pyproj-3.6.1-cp312-cp312-macosx_10_9_x86_64.whl.metadata (31 kB)\n",
      "Requirement already satisfied: certifi in /usr/local/opt/python-certifi/lib/python3.12/site-packages (from pyproj) (2023.11.17)\n",
      "Downloading pyproj-3.6.1-cp312-cp312-macosx_10_9_x86_64.whl (6.1 MB)\n",
      "\u001b[2K   \u001b[38;2;114;156;31m━━━━━━━━━━━━━━━━━━━━━━━━━━━━━━━━━━━━━━━━\u001b[0m \u001b[32m6.1/6.1 MB\u001b[0m \u001b[31m36.8 MB/s\u001b[0m eta \u001b[36m0:00:00\u001b[0mm eta \u001b[36m0:00:01\u001b[0m[36m0:00:01\u001b[0m\n",
      "\u001b[?25h\u001b[33mWARNING: Skipping /usr/local/lib/python3.12/site-packages/platformdirs-4.1.0.dist-info due to invalid metadata entry 'name'\u001b[0m\u001b[33m\n",
      "\u001b[0m\u001b[33mWARNING: Skipping /usr/local/lib/python3.12/site-packages/attrs-23.1.0.dist-info due to invalid metadata entry 'name'\u001b[0m\u001b[33m\n",
      "\u001b[0m\u001b[33mWARNING: Skipping /usr/local/lib/python3.12/site-packages/packaging-23.2.dist-info due to invalid metadata entry 'name'\u001b[0m\u001b[33m\n",
      "\u001b[0m\u001b[33mWARNING: Skipping /usr/local/lib/python3.12/site-packages/requests-2.31.0.dist-info due to invalid metadata entry 'name'\u001b[0m\u001b[33m\n",
      "\u001b[0m\u001b[33mWARNING: Skipping /usr/local/lib/python3.12/site-packages/urllib3-2.1.0.dist-info due to invalid metadata entry 'name'\u001b[0m\u001b[33m\n",
      "\u001b[0m\u001b[33mWARNING: Skipping /usr/local/lib/python3.12/site-packages/charset_normalizer-3.3.2.dist-info due to invalid metadata entry 'name'\u001b[0m\u001b[33m\n",
      "\u001b[0m\u001b[33mWARNING: Skipping /usr/local/lib/python3.12/site-packages/certifi-2023.11.17.dist-info due to invalid metadata entry 'name'\u001b[0m\u001b[33m\n",
      "\u001b[0m\u001b[33mWARNING: Skipping /usr/local/lib/python3.12/site-packages/idna-3.6.dist-info due to invalid metadata entry 'name'\u001b[0m\u001b[33m\n",
      "\u001b[0mInstalling collected packages: pyproj\n",
      "Successfully installed pyproj-3.6.1\n",
      "\u001b[33mWARNING: Skipping /usr/local/lib/python3.12/site-packages/platformdirs-4.1.0.dist-info due to invalid metadata entry 'name'\u001b[0m\u001b[33m\n",
      "\u001b[0m\u001b[33mWARNING: Skipping /usr/local/lib/python3.12/site-packages/platformdirs-4.1.0.dist-info due to invalid metadata entry 'name'\u001b[0m\u001b[33m\n",
      "\u001b[0m\u001b[33mWARNING: Skipping /usr/local/lib/python3.12/site-packages/platformdirs-4.1.0.dist-info due to invalid metadata entry 'name'\u001b[0m\u001b[33m\n",
      "\u001b[0m\n",
      "\u001b[1m[\u001b[0m\u001b[34;49mnotice\u001b[0m\u001b[1;39;49m]\u001b[0m\u001b[39;49m A new release of pip is available: \u001b[0m\u001b[31;49m23.3.1\u001b[0m\u001b[39;49m -> \u001b[0m\u001b[32;49m24.0\u001b[0m\n",
      "\u001b[1m[\u001b[0m\u001b[34;49mnotice\u001b[0m\u001b[1;39;49m]\u001b[0m\u001b[39;49m To update, run: \u001b[0m\u001b[32;49m/usr/local/Cellar/jupyterlab/4.0.9_2/libexec/bin/python -m pip install --upgrade pip\u001b[0m\n"
     ]
    }
   ],
   "source": [
    "import sys\n",
    "!{sys.executable} -m pip install pyproj"
   ]
  },
  {
   "cell_type": "code",
   "execution_count": 8,
   "id": "ac889a5e-7bea-4ae0-9f70-3471c9a4a58d",
   "metadata": {},
   "outputs": [
    {
     "name": "stdout",
     "output_type": "stream",
     "text": [
      "Longitude (WGS84): 52.546096\n",
      "Latitude (WGS84): 13.211545\n"
     ]
    }
   ],
   "source": [
    "from pyproj import CRS, Transformer\n",
    "\n",
    "# Define EPSG codes\n",
    "epsg_25833 = CRS.from_epsg(25833)  # ETRS89 / UTM zone 33N\n",
    "wgs84 = CRS.from_epsg(4326)  # WGS84\n",
    "\n",
    "# Create transformer object\n",
    "transformer = Transformer.from_crs(epsg_25833, wgs84)\n",
    "\n",
    "\n",
    "def to_wgs(coordinates):\n",
    "x_utm, y_utm = 378726.33999999985, 5823282.1251\n",
    "\n",
    "# Perform transformation\n",
    "    lon, lat = transformer.transform(coordinates[0], coordinates[1])\n",
    "\n",
    "# Print the WGS84 coordinates\n",
    "print(f\"Longitude (WGS84): {lon:.6f}\")\n",
    "print(f\"Latitude (WGS84): {lat:.6f}\")"
   ]
  },
  {
   "cell_type": "code",
   "execution_count": 28,
   "id": "fd2c7ea4-75c9-4810-a56f-b6e01e0cd724",
   "metadata": {},
   "outputs": [],
   "source": [
    "import csv\n",
    "\n",
    "keys = [\"id\", \"gattung\", \"art_dtsch\", \"lon\", \"lat\"]\n",
    "\n",
    "with open(\"trees.csv\", \"w\", newline=\"\") as csvfile:\n",
    "    # Create a CSV writer object\n",
    "    writer = csv.DictWriter(csvfile, fieldnames=keys)\n",
    "    writer.writeheader()\n",
    "\n",
    "    # Write each dictionary as a row\n",
    "    for tree in trees:\n",
    "        prop = tree[\"properties\"]\n",
    "        if prop[\"gattung\"] not in (\"MAGNOLIA\", \"PRUNUS\", \"PYRUS\", \"MALUS\", \"CRATAEGUS\"):\n",
    "            continue\n",
    "        coordinates = tree[\"geometry\"][\"coordinates\"]\n",
    "        lat, lon = transformer.transform(coordinates[0], coordinates[1])\n",
    "        writer.writerow({\"id\": prop[\"baumid\"], \"gattung\": prop[\"gattung\"], \"art_dtsch\": prop[\"art_dtsch\"], \"lon\":lon, \"lat\":lat})"
   ]
  },
  {
   "cell_type": "code",
   "execution_count": 30,
   "id": "cc6a63c1-ff56-4c24-a069-bcac9edee8b4",
   "metadata": {},
   "outputs": [
    {
     "name": "stdout",
     "output_type": "stream",
     "text": [
      "Counter({'PRUNUS': 750, 'CRATAEGUS': 162})\n"
     ]
    }
   ],
   "source": [
    "from collections import Counter\n",
    "trees = gjs[\"features\"]\n",
    "genus = Counter([t[\"properties\"][\"gattung\"] for t in trees if 'pflaume' in t[\"properties\"][\"art_dtsch\"].lower()])\n",
    "print(genus)"
   ]
  },
  {
   "cell_type": "code",
   "execution_count": 45,
   "id": "f23fd5f9-6746-4f39-a929-b15e0daa9821",
   "metadata": {},
   "outputs": [],
   "source": [
    "def filter_file(file_name, filter_func):\n",
    "    new_features = []\n",
    "    for tree in trees:\n",
    "        prop = tree[\"properties\"]\n",
    "        if not filter_func(prop):\n",
    "            continue\n",
    "        coordinates = tree[\"geometry\"][\"coordinates\"]\n",
    "        lat, lon = transformer.transform(coordinates[0], coordinates[1])\n",
    "        new_features.append({\"type\": \"Feature\", \"geometry\": {\"type\": \"Point\", \"coordinates\": [lon, lat]}, \"properties\":{ \"art_dtsch\": prop[\"art_dtsch\"]}})\n",
    "    \n",
    "    gjs = {\"type\":\"FeatureCollection\", \"features\":new_features}\n",
    "    \n",
    "    with open(file_name,\"w\") as f:\n",
    "        json.dump(gjs, f)\n",
    "\n",
    "\n",
    "filter_file(\"magnolia.geojson\", lambda t: t[\"gattung\"] == \"MAGNOLIA\")\n",
    "filter_file(\"cherry.geojson\", lambda t: 'kirsche' in t[\"art_dtsch\"].lower() and t[\"gattung\"] != \"CRATAEGUS\")\n",
    "filter_file(\"apple.geojson\", lambda t: 'apfel' in t[\"art_dtsch\"].lower() and t[\"gattung\"] != \"CRATAEGUS\")\n",
    "filter_file(\"pear.geojson\", lambda t: 'birne' in t[\"art_dtsch\"].lower() and t[\"gattung\"] != \"CRATAEGUS\")\n",
    "filter_file(\"plum.geojson\", lambda t: 'pflaume' in t[\"art_dtsch\"].lower() and t[\"gattung\"] != \"CRATAEGUS\")"
   ]
  },
  {
   "cell_type": "code",
   "execution_count": null,
   "id": "d3f56264-2322-46d4-9cde-8162c13b7436",
   "metadata": {},
   "outputs": [],
   "source": []
  }
 ],
 "metadata": {
  "kernelspec": {
   "display_name": "Python 3 (ipykernel)",
   "language": "python",
   "name": "python3"
  },
  "language_info": {
   "codemirror_mode": {
    "name": "ipython",
    "version": 3
   },
   "file_extension": ".py",
   "mimetype": "text/x-python",
   "name": "python",
   "nbconvert_exporter": "python",
   "pygments_lexer": "ipython3",
   "version": "3.12.1"
  }
 },
 "nbformat": 4,
 "nbformat_minor": 5
}
